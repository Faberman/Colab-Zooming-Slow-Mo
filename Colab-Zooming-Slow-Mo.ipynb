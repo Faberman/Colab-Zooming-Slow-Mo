{
  "nbformat": 4,
  "nbformat_minor": 0,
  "metadata": {
    "colab": {
      "name": "Colab-Zooming-Slow-Mo.ipynb",
      "provenance": [],
      "private_outputs": true,
      "collapsed_sections": [],
      "toc_visible": true
    },
    "kernelspec": {
      "name": "python3",
      "display_name": "Python 3"
    },
    "accelerator": "GPU"
  },
  "cells": [
    {
      "cell_type": "markdown",
      "metadata": {
        "id": "mmgvuc5raUvE",
        "colab_type": "text"
      },
      "source": [
        "# Zooming SlowMo\n",
        "This Colab is based on [this](https://github.com/Mukosame/Zooming-Slow-Mo-CVPR-2020). This Colab was created by [Styler00Dollar](https://github.com/styler00dollar) aka \"sudo rm -rf / --no-preserve-root#8353\" on discord\n",
        "\n",
        "Simple tutorial:\n",
        "\n",
        "- Run cells with these play-buttons that are visible on the left side of the code/text. ```[ ]``` indicate a play-button."
      ]
    },
    {
      "cell_type": "code",
      "metadata": {
        "id": "ks2ywhceHgXz",
        "colab_type": "code",
        "colab": {}
      },
      "source": [
        "# Check GPU\n",
        "!nvidia-smi"
      ],
      "execution_count": null,
      "outputs": []
    },
    {
      "cell_type": "code",
      "metadata": {
        "id": "4B7GcuQ_HnEa",
        "colab_type": "code",
        "colab": {}
      },
      "source": [
        "# Install everything\n",
        "!git clone https://github.com/styler00dollar/Colab-Zooming-Slow-Mo\n",
        "!wget -c https://repo.anaconda.com/miniconda/Miniconda3-4.5.4-Linux-x86_64.sh\n",
        "!chmod +x Miniconda3-4.5.4-Linux-x86_64.sh\n",
        "!bash ./Miniconda3-4.5.4-Linux-x86_64.sh -b -f -p /usr/local\n",
        "!conda install pytorch cudatoolkit==10.0.130 torchvision -c pytorch -y\n",
        "%cd /content/Colab-Zooming-Slow-Mo/codes/models/modules/DCNv2\n",
        "!python setup.py build develop\n",
        "!pip install gdown\n",
        "%cd /content/\n",
        "!gdown --id 1xeOoZclGeSI1urY6mVCcApfCqOPgxMBK\n",
        "!pip install opencv-python\n",
        "!pip install pyyaml"
      ],
      "execution_count": null,
      "outputs": []
    },
    {
      "cell_type": "code",
      "metadata": {
        "id": "Dkt-aY0ObLXI",
        "colab_type": "code",
        "colab": {}
      },
      "source": [
        "# Connect Google Drive\n",
        "from google.colab import drive\n",
        "drive.mount('/content/drive')\n",
        "print('Google Drive connected.')"
      ],
      "execution_count": null,
      "outputs": []
    },
    {
      "cell_type": "markdown",
      "metadata": {
        "id": "xHHd6Iyfb1gE",
        "colab_type": "text"
      },
      "source": [
        "Put your file into Google Drive. The default input path is ```Google Drive/input.mp4```.\n",
        "\n",
        "This needs a lot of resources, since it does interpolation and 4x upscaling at the same time. Don't input high resolutions. 432x240 seems to work.\n",
        "\n",
        "Create video without sound:"
      ]
    },
    {
      "cell_type": "code",
      "metadata": {
        "id": "Mv3aLjTAzelu",
        "colab_type": "code",
        "colab": {}
      },
      "source": [
        "# Copy video to Colab and doing interpolation\n",
        "!cp \"/content/drive/My Drive/input.mp4\" /content/input.mp4\n",
        "\n",
        "# Detecting FPS of input file\n",
        "import os\n",
        "import cv2\n",
        "cap = cv2.VideoCapture('/content/input.mp4')\n",
        "fps = cap.get(cv2.CAP_PROP_FPS)\n",
        "print(\"Detected FPS: \")\n",
        "print(fps)\n",
        "\n",
        "!python /content/Colab-Zooming-Slow-Mo/codes/video_to_zsm.py --video /content/input.mp4 --model /content/Colab-Zooming-Slow-Mo/experiments/pretrained_models/xiang2020zooming.pth\n",
        "\n",
        "amount_files_extract_dir = len(os.listdir('/content/Colab-Zooming-Slow-Mo/extract'))\n",
        "amount_files_tmp_dir = len(os.listdir('/content/Colab-Zooming-Slow-Mo/tmp'))\n",
        "\n",
        "new_fps = fps*(amount_files_tmp_dir/amount_files_extract_dir)\n",
        "\n",
        "%shell ffmpeg -y -r {new_fps} -f image2 -pattern_type glob -i '/content/Colab-Zooming-Slow-Mo/tmp/*.png' -crf 18 /content/output.mp4\n",
        "# Copy video back to Google Drive\n",
        "!cp /content/output.mp4 \"/content/drive/My Drive/output.mp4\""
      ],
      "execution_count": null,
      "outputs": []
    },
    {
      "cell_type": "markdown",
      "metadata": {
        "id": "vwGZz-g0V5or",
        "colab_type": "text"
      },
      "source": [
        "[Experimental] Create video with sound"
      ]
    },
    {
      "cell_type": "code",
      "metadata": {
        "id": "_Z-3q7u2V80S",
        "colab_type": "code",
        "colab": {}
      },
      "source": [
        "# Copy video to Colab and doing interpolation\n",
        "!cp \"/content/drive/My Drive/input.mp4\" /content/input.mp4\n",
        "\n",
        "# Detecting FPS of input file\n",
        "import os\n",
        "import cv2\n",
        "cap = cv2.VideoCapture('/content/input.mp4')\n",
        "fps = cap.get(cv2.CAP_PROP_FPS)\n",
        "print(\"Detected FPS: \")\n",
        "print(fps)\n",
        "\n",
        "%cd /content/Colab-Zooming-Slow-Mo/codes\n",
        "!python video_to_zsm.py --video /content/input.mp4 --model /content/Colab-Zooming-Slow-Mo/experiments/pretrained_models/xiang2020zooming.pth\n",
        "\n",
        "amount_files_extract_dir = len(os.listdir('/content/Colab-Zooming-Slow-Mo/extract'))\n",
        "amount_files_tmp_dir = len(os.listdir('/content/Colab-Zooming-Slow-Mo/tmp'))\n",
        "\n",
        "new_fps = fps*(amount_files_tmp_dir/amount_files_extract_dir)\n",
        "\n",
        "%shell ffmpeg -i /content/input.mp4 -acodec copy /content/output-audio.aac\n",
        "%shell ffmpeg -y -r {new_fps} -f image2 -pattern_type glob -i '/content/Colab-Zooming-Slow-Mo/tmp/*.png' -i /content/output-audio.aac -shortest -crf 18 /content/output.mp4\n",
        "# Copy video back to Google Drive\n",
        "!cp /content/output.mp4 \"/content/drive/My Drive/output.mp4\""
      ],
      "execution_count": null,
      "outputs": []
    },
    {
      "cell_type": "markdown",
      "metadata": {
        "id": "Yr1oYHsfcYfL",
        "colab_type": "text"
      },
      "source": [
        "# Preview the result within Colab\n",
        "\n",
        "Don't try this with big files. It will crash Colab. Small files like 10mb are ok. ~20+mb will crash colab."
      ]
    },
    {
      "cell_type": "code",
      "metadata": {
        "id": "Jp8zaqNMceQS",
        "colab_type": "code",
        "colab": {}
      },
      "source": [
        "def show_local_mp4_video(file_name, width=640, height=480):\n",
        "  import io\n",
        "  import base64\n",
        "  from IPython.display import HTML\n",
        "  video_encoded = base64.b64encode(io.open(file_name, 'rb').read())\n",
        "  return HTML(data='''<video width=\"{0}\" height=\"{1}\" alt=\"test\" controls>\n",
        "                        <source src=\"data:video/mp4;base64,{2}\" type=\"video/mp4\" />\n",
        "                      </video>'''.format(width, height, video_encoded.decode('ascii')))\n",
        "\n",
        "show_local_mp4_video('/content/output.mp4', width=960, height=720)"
      ],
      "execution_count": null,
      "outputs": []
    }
  ]
}